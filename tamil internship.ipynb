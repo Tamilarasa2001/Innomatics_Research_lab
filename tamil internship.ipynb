{
 "cells": [
  {
   "cell_type": "code",
   "execution_count": 10,
   "id": "4bc7eb14",
   "metadata": {},
   "outputs": [
    {
     "name": "stdout",
     "output_type": "stream",
     "text": [
      "   movieId                               title  \\\n",
      "0        1                    Toy Story (1995)   \n",
      "1        2                      Jumanji (1995)   \n",
      "2        3             Grumpier Old Men (1995)   \n",
      "3        4            Waiting to Exhale (1995)   \n",
      "4        5  Father of the Bride Part II (1995)   \n",
      "\n",
      "                                        genres  \n",
      "0  Adventure|Animation|Children|Comedy|Fantasy  \n",
      "1                   Adventure|Children|Fantasy  \n",
      "2                               Comedy|Romance  \n",
      "3                         Comedy|Drama|Romance  \n",
      "4                                       Comedy  \n"
     ]
    }
   ],
   "source": [
    "import pandas as pd\n",
    "from tqdm.auto import tqdm\n",
    "\n",
    "# Load the movies.csv file\n",
    "movies_df = pd.read_csv(\"D:\\movie_data\\movies.csv\", encoding='utf-8')\n",
    "\n",
    "# Show the head of the dataframe\n",
    "print(movies_df.head())"
   ]
  },
  {
   "cell_type": "code",
   "execution_count": 11,
   "id": "3f10ae3e",
   "metadata": {},
   "outputs": [
    {
     "name": "stdout",
     "output_type": "stream",
     "text": [
      "(9742, 3)\n"
     ]
    }
   ],
   "source": [
    "# Print the shape of the movies dataframe\n",
    "print(movies_df.shape)"
   ]
  },
  {
   "cell_type": "code",
   "execution_count": 14,
   "id": "97f9d6d0",
   "metadata": {},
   "outputs": [
    {
     "name": "stdout",
     "output_type": "stream",
     "text": [
      "   userId  movieId  rating  timestamp\n",
      "0       1        1     4.0  964982703\n",
      "1       1        3     4.0  964981247\n",
      "2       1        6     4.0  964982224\n",
      "3       1       47     5.0  964983815\n",
      "4       1       50     5.0  964982931\n"
     ]
    }
   ],
   "source": [
    "# Load the ratings.csv file\n",
    "ratings_df = pd.read_csv(\"D:/movie_data/ratings.csv\")\n",
    "\n",
    "# Show the head of the dataframe\n",
    "print(ratings_df.head())"
   ]
  },
  {
   "cell_type": "code",
   "execution_count": 15,
   "id": "8a80e819",
   "metadata": {},
   "outputs": [
    {
     "name": "stdout",
     "output_type": "stream",
     "text": [
      "(100836, 4)\n"
     ]
    }
   ],
   "source": [
    "# Print the shape of the ratings dataframe\n",
    "print(ratings_df.shape)"
   ]
  },
  {
   "cell_type": "code",
   "execution_count": 16,
   "id": "d3e584a1",
   "metadata": {},
   "outputs": [
    {
     "name": "stdout",
     "output_type": "stream",
     "text": [
      "610\n"
     ]
    }
   ],
   "source": [
    "# Calculate the number of unique userIds in the ratings dataframe\n",
    "unique_user_ids = ratings_df['userId'].nunique()\n",
    "print(unique_user_ids)"
   ]
  },
  {
   "cell_type": "code",
   "execution_count": 17,
   "id": "4fbfd493",
   "metadata": {},
   "outputs": [
    {
     "name": "stdout",
     "output_type": "stream",
     "text": [
      "356 Forrest Gump (1994) 329\n"
     ]
    }
   ],
   "source": [
    "# Find the movie with the maximum number of user ratings\n",
    "movie_rating_counts = ratings_df['movieId'].value_counts()\n",
    "max_ratings_movie_id = movie_rating_counts.idxmax()\n",
    "max_ratings_count = movie_rating_counts.max()\n",
    "\n",
    "# Retrieve the movie title corresponding to the movie with the maximum number of ratings\n",
    "max_ratings_movie_title = movies_df.loc[movies_df['movieId'] == max_ratings_movie_id, 'title'].values[0]\n",
    "\n",
    "print(max_ratings_movie_id, max_ratings_movie_title, max_ratings_count)"
   ]
  },
  {
   "cell_type": "code",
   "execution_count": 18,
   "id": "e5516293",
   "metadata": {},
   "outputs": [
    {
     "name": "stdout",
     "output_type": "stream",
     "text": [
      "3.970982142857143\n"
     ]
    }
   ],
   "source": [
    "# Find the movieId for 'Terminator 2: Judgment Day (1991)'\n",
    "terminator_movie_id = movies_df[movies_df['title'] == 'Terminator 2: Judgment Day (1991)']['movieId'].iloc[0]\n",
    "\n",
    "# Calculate the average rating for 'Terminator 2: Judgment Day (1991)'\n",
    "terminator_avg_rating = ratings_df[ratings_df['movieId'] == terminator_movie_id]['rating'].mean()\n",
    "print(terminator_avg_rating)"
   ]
  },
  {
   "cell_type": "code",
   "execution_count": 19,
   "id": "acffcb2d",
   "metadata": {},
   "outputs": [
    {
     "name": "stdout",
     "output_type": "stream",
     "text": [
      "Most Popular Movie Based on Average User Ratings:\n",
      "Title: Shawshank Redemption, The (1994)\n",
      "Average Rating: 4.429022082018927\n"
     ]
    }
   ],
   "source": [
    "# Calculate the average rating for each movie and count the number of ratings\n",
    "movie_ratings = ratings_df.groupby('movieId').agg({'rating': ['mean', 'count']})\n",
    "\n",
    "# Flatten the multi-level columns\n",
    "movie_ratings.columns = ['average_rating', 'rating_count']\n",
    "\n",
    "# Filter out movies with a low number of ratings to get a more accurate picture of popularity\n",
    "min_ratings_threshold = 100\n",
    "popular_movies = movie_ratings[movie_ratings['rating_count'] > min_ratings_threshold]\n",
    "\n",
    "# Find the movie with the highest average rating among those with more than the threshold of ratings\n",
    "most_popular_movie_id = popular_movies['average_rating'].idxmax()\n",
    "most_popular_movie = movies_df[movies_df['movieId'] == most_popular_movie_id]\n",
    "\n",
    "# Display the title and average rating of the most popular movie\n",
    "most_popular_movie_title = most_popular_movie['title'].iloc[0]\n",
    "most_popular_movie_avg_rating = popular_movies.loc[most_popular_movie_id, 'average_rating']\n",
    "\n",
    "print('Most Popular Movie Based on Average User Ratings:')\n",
    "print('Title:', most_popular_movie_title)\n",
    "print('Average Rating:', most_popular_movie_avg_rating)"
   ]
  },
  {
   "cell_type": "code",
   "execution_count": 23,
   "id": "38ef24f4",
   "metadata": {},
   "outputs": [
    {
     "data": {
      "text/html": [
       "<div>\n",
       "<style scoped>\n",
       "    .dataframe tbody tr th:only-of-type {\n",
       "        vertical-align: middle;\n",
       "    }\n",
       "\n",
       "    .dataframe tbody tr th {\n",
       "        vertical-align: top;\n",
       "    }\n",
       "\n",
       "    .dataframe thead th {\n",
       "        text-align: right;\n",
       "    }\n",
       "</style>\n",
       "<table border=\"1\" class=\"dataframe\">\n",
       "  <thead>\n",
       "    <tr style=\"text-align: right;\">\n",
       "      <th></th>\n",
       "      <th>average_rating</th>\n",
       "      <th>rating_count</th>\n",
       "    </tr>\n",
       "    <tr>\n",
       "      <th>movieId</th>\n",
       "      <th></th>\n",
       "      <th></th>\n",
       "    </tr>\n",
       "  </thead>\n",
       "  <tbody>\n",
       "    <tr>\n",
       "      <th>356</th>\n",
       "      <td>4.164134</td>\n",
       "      <td>329</td>\n",
       "    </tr>\n",
       "    <tr>\n",
       "      <th>318</th>\n",
       "      <td>4.429022</td>\n",
       "      <td>317</td>\n",
       "    </tr>\n",
       "    <tr>\n",
       "      <th>296</th>\n",
       "      <td>4.197068</td>\n",
       "      <td>307</td>\n",
       "    </tr>\n",
       "    <tr>\n",
       "      <th>593</th>\n",
       "      <td>4.161290</td>\n",
       "      <td>279</td>\n",
       "    </tr>\n",
       "    <tr>\n",
       "      <th>2571</th>\n",
       "      <td>4.192446</td>\n",
       "      <td>278</td>\n",
       "    </tr>\n",
       "  </tbody>\n",
       "</table>\n",
       "</div>"
      ],
      "text/plain": [
       "         average_rating  rating_count\n",
       "movieId                              \n",
       "356            4.164134           329\n",
       "318            4.429022           317\n",
       "296            4.197068           307\n",
       "593            4.161290           279\n",
       "2571           4.192446           278"
      ]
     },
     "execution_count": 23,
     "metadata": {},
     "output_type": "execute_result"
    }
   ],
   "source": [
    "# Find the top 5 popular movies based on the number of user ratings\n",
    "top_5_popular_movies = popular_movies.sort_values('rating_count', ascending=False).head(5)\n",
    "top_5_popular_movies"
   ]
  },
  {
   "cell_type": "code",
   "execution_count": 24,
   "id": "0d95546d",
   "metadata": {},
   "outputs": [
    {
     "data": {
      "text/html": [
       "<div>\n",
       "<style scoped>\n",
       "    .dataframe tbody tr th:only-of-type {\n",
       "        vertical-align: middle;\n",
       "    }\n",
       "\n",
       "    .dataframe tbody tr th {\n",
       "        vertical-align: top;\n",
       "    }\n",
       "\n",
       "    .dataframe thead th {\n",
       "        text-align: right;\n",
       "    }\n",
       "</style>\n",
       "<table border=\"1\" class=\"dataframe\">\n",
       "  <thead>\n",
       "    <tr style=\"text-align: right;\">\n",
       "      <th></th>\n",
       "      <th>title</th>\n",
       "      <th>average_rating</th>\n",
       "      <th>rating_count</th>\n",
       "    </tr>\n",
       "  </thead>\n",
       "  <tbody>\n",
       "    <tr>\n",
       "      <th>0</th>\n",
       "      <td>Forrest Gump (1994)</td>\n",
       "      <td>4.164134</td>\n",
       "      <td>329</td>\n",
       "    </tr>\n",
       "    <tr>\n",
       "      <th>1</th>\n",
       "      <td>Shawshank Redemption, The (1994)</td>\n",
       "      <td>4.429022</td>\n",
       "      <td>317</td>\n",
       "    </tr>\n",
       "    <tr>\n",
       "      <th>2</th>\n",
       "      <td>Pulp Fiction (1994)</td>\n",
       "      <td>4.197068</td>\n",
       "      <td>307</td>\n",
       "    </tr>\n",
       "    <tr>\n",
       "      <th>3</th>\n",
       "      <td>Silence of the Lambs, The (1991)</td>\n",
       "      <td>4.161290</td>\n",
       "      <td>279</td>\n",
       "    </tr>\n",
       "    <tr>\n",
       "      <th>4</th>\n",
       "      <td>Matrix, The (1999)</td>\n",
       "      <td>4.192446</td>\n",
       "      <td>278</td>\n",
       "    </tr>\n",
       "  </tbody>\n",
       "</table>\n",
       "</div>"
      ],
      "text/plain": [
       "                              title  average_rating  rating_count\n",
       "0               Forrest Gump (1994)        4.164134           329\n",
       "1  Shawshank Redemption, The (1994)        4.429022           317\n",
       "2               Pulp Fiction (1994)        4.197068           307\n",
       "3  Silence of the Lambs, The (1991)        4.161290           279\n",
       "4                Matrix, The (1999)        4.192446           278"
      ]
     },
     "execution_count": 24,
     "metadata": {},
     "output_type": "execute_result"
    }
   ],
   "source": [
    "# Merge the average ratings with the movies dataframe to get the movie titles for the top 5 popular movies\n",
    "top_5_popular_movies_with_titles = top_5_popular_movies.merge(movies_df, on='movieId', how='inner')\n",
    "top_5_popular_movies_with_titles[['title', 'average_rating', 'rating_count']]"
   ]
  },
  {
   "cell_type": "code",
   "execution_count": 25,
   "id": "4de5b6e4",
   "metadata": {},
   "outputs": [
    {
     "data": {
      "text/plain": [
       "movieId                                        480\n",
       "average_rating                                3.75\n",
       "rating_count                                   238\n",
       "title                         Jurassic Park (1993)\n",
       "genres            Action|Adventure|Sci-Fi|Thriller\n",
       "Name: 6, dtype: object"
      ]
     },
     "execution_count": 25,
     "metadata": {},
     "output_type": "execute_result"
    }
   ],
   "source": [
    "# Find the third most popular Sci-Fi movie based on the number of user ratings\n",
    "sci_fi_movies = movies_df[movies_df['genres'].str.contains('Sci-Fi', case=False)]\n",
    "sci_fi_movie_ratings = popular_movies.merge(sci_fi_movies, on='movieId', how='inner')\n",
    "third_most_popular_sci_fi_movie = sci_fi_movie_ratings.sort_values('rating_count', ascending=False).iloc[2]\n",
    "third_most_popular_sci_fi_movie"
   ]
  },
  {
   "cell_type": "code",
   "execution_count": 26,
   "id": "99e28c67",
   "metadata": {},
   "outputs": [],
   "source": [
    "links_df=pd.read_csv(\"D:\\movie_data\\links.csv\")"
   ]
  },
  {
   "cell_type": "code",
   "execution_count": 27,
   "id": "89213059",
   "metadata": {},
   "outputs": [
    {
     "data": {
      "text/html": [
       "<div>\n",
       "<style scoped>\n",
       "    .dataframe tbody tr th:only-of-type {\n",
       "        vertical-align: middle;\n",
       "    }\n",
       "\n",
       "    .dataframe tbody tr th {\n",
       "        vertical-align: top;\n",
       "    }\n",
       "\n",
       "    .dataframe thead th {\n",
       "        text-align: right;\n",
       "    }\n",
       "</style>\n",
       "<table border=\"1\" class=\"dataframe\">\n",
       "  <thead>\n",
       "    <tr style=\"text-align: right;\">\n",
       "      <th></th>\n",
       "      <th>movieId</th>\n",
       "      <th>imdbId</th>\n",
       "      <th>tmdbId</th>\n",
       "    </tr>\n",
       "  </thead>\n",
       "  <tbody>\n",
       "    <tr>\n",
       "      <th>0</th>\n",
       "      <td>1</td>\n",
       "      <td>114709</td>\n",
       "      <td>862.0</td>\n",
       "    </tr>\n",
       "    <tr>\n",
       "      <th>1</th>\n",
       "      <td>2</td>\n",
       "      <td>113497</td>\n",
       "      <td>8844.0</td>\n",
       "    </tr>\n",
       "    <tr>\n",
       "      <th>2</th>\n",
       "      <td>3</td>\n",
       "      <td>113228</td>\n",
       "      <td>15602.0</td>\n",
       "    </tr>\n",
       "    <tr>\n",
       "      <th>3</th>\n",
       "      <td>4</td>\n",
       "      <td>114885</td>\n",
       "      <td>31357.0</td>\n",
       "    </tr>\n",
       "    <tr>\n",
       "      <th>4</th>\n",
       "      <td>5</td>\n",
       "      <td>113041</td>\n",
       "      <td>11862.0</td>\n",
       "    </tr>\n",
       "  </tbody>\n",
       "</table>\n",
       "</div>"
      ],
      "text/plain": [
       "   movieId  imdbId   tmdbId\n",
       "0        1  114709    862.0\n",
       "1        2  113497   8844.0\n",
       "2        3  113228  15602.0\n",
       "3        4  114885  31357.0\n",
       "4        5  113041  11862.0"
      ]
     },
     "execution_count": 27,
     "metadata": {},
     "output_type": "execute_result"
    }
   ],
   "source": [
    "links_df.head()"
   ]
  },
  {
   "cell_type": "code",
   "execution_count": 28,
   "id": "ca9a52a7",
   "metadata": {},
   "outputs": [
    {
     "data": {
      "text/html": [
       "<div>\n",
       "<style scoped>\n",
       "    .dataframe tbody tr th:only-of-type {\n",
       "        vertical-align: middle;\n",
       "    }\n",
       "\n",
       "    .dataframe tbody tr th {\n",
       "        vertical-align: top;\n",
       "    }\n",
       "\n",
       "    .dataframe thead th {\n",
       "        text-align: right;\n",
       "    }\n",
       "</style>\n",
       "<table border=\"1\" class=\"dataframe\">\n",
       "  <thead>\n",
       "    <tr style=\"text-align: right;\">\n",
       "      <th></th>\n",
       "      <th>movieId</th>\n",
       "      <th>imdbId</th>\n",
       "      <th>tmdbId</th>\n",
       "    </tr>\n",
       "  </thead>\n",
       "  <tbody>\n",
       "    <tr>\n",
       "      <th>9740</th>\n",
       "      <td>193587</td>\n",
       "      <td>8391976</td>\n",
       "      <td>483455.0</td>\n",
       "    </tr>\n",
       "  </tbody>\n",
       "</table>\n",
       "</div>"
      ],
      "text/plain": [
       "      movieId   imdbId    tmdbId\n",
       "9740   193587  8391976  483455.0"
      ]
     },
     "execution_count": 28,
     "metadata": {},
     "output_type": "execute_result"
    }
   ],
   "source": [
    "links_df[links_df['imdbId'] == links_df['imdbId'].max()]"
   ]
  },
  {
   "cell_type": "code",
   "execution_count": 32,
   "id": "fe56faa5",
   "metadata": {},
   "outputs": [
    {
     "data": {
      "text/plain": [
       "Index(['userId', 'movieId', 'rating', 'timestamp', 'imdbId', 'tmdbId', 'title',\n",
       "       'genres'],\n",
       "      dtype='object')"
      ]
     },
     "execution_count": 32,
     "metadata": {},
     "output_type": "execute_result"
    }
   ],
   "source": [
    "# Display the columns of the final merged dataframe to identify the column containing the IMDB ratings\n",
    "final_merged_df.columns"
   ]
  },
  {
   "cell_type": "code",
   "execution_count": 34,
   "id": "8c8d9125",
   "metadata": {},
   "outputs": [
    {
     "data": {
      "text/plain": [
       "'{\"df_name\":\"final_merged_df\",\"columns_names\":[\"genres\"],\"new_columns\":{\"imdb_rating\":\"The IMDB rating of the movie\"}}'"
      ]
     },
     "execution_count": 34,
     "metadata": {},
     "output_type": "execute_result"
    }
   ],
   "source": [
    "\"{\\\"df_name\\\":\\\"final_merged_df\\\",\\\"columns_names\\\":[\\\"genres\\\"],\\\"new_columns\\\":{\\\"imdb_rating\\\":\\\"The IMDB rating of the movie\\\"}}\""
   ]
  },
  {
   "cell_type": "code",
   "execution_count": 36,
   "id": "bce21ea4",
   "metadata": {},
   "outputs": [
    {
     "data": {
      "text/html": [
       "<div>\n",
       "<style scoped>\n",
       "    .dataframe tbody tr th:only-of-type {\n",
       "        vertical-align: middle;\n",
       "    }\n",
       "\n",
       "    .dataframe tbody tr th {\n",
       "        vertical-align: top;\n",
       "    }\n",
       "\n",
       "    .dataframe thead th {\n",
       "        text-align: right;\n",
       "    }\n",
       "</style>\n",
       "<table border=\"1\" class=\"dataframe\">\n",
       "  <thead>\n",
       "    <tr style=\"text-align: right;\">\n",
       "      <th></th>\n",
       "      <th>movieId</th>\n",
       "      <th>title</th>\n",
       "      <th>imdbId</th>\n",
       "    </tr>\n",
       "  </thead>\n",
       "  <tbody>\n",
       "    <tr>\n",
       "      <th>100442</th>\n",
       "      <td>179053</td>\n",
       "      <td>2048: Nowhere to Run (2017)</td>\n",
       "      <td>7387408</td>\n",
       "    </tr>\n",
       "  </tbody>\n",
       "</table>\n",
       "</div>"
      ],
      "text/plain": [
       "        movieId                        title   imdbId\n",
       "100442   179053  2048: Nowhere to Run (2017)  7387408"
      ]
     },
     "execution_count": 36,
     "metadata": {},
     "output_type": "execute_result"
    }
   ],
   "source": [
    "# Find the movie with the highest IMDB rating among Sci-Fi movies\n",
    "scifi_movies = final_merged_df[final_merged_df['genres'].str.contains('Sci-Fi')]\n",
    "highest_imdb_rating_scifi_movie = scifi_movies[scifi_movies['imdbId'] == scifi_movies['imdbId'].max()]\n",
    "highest_imdb_rating_scifi_movie[['movieId', 'title', 'imdbId']]"
   ]
  }
 ],
 "metadata": {
  "kernelspec": {
   "display_name": "Python 3 (ipykernel)",
   "language": "python",
   "name": "python3"
  },
  "language_info": {
   "codemirror_mode": {
    "name": "ipython",
    "version": 3
   },
   "file_extension": ".py",
   "mimetype": "text/x-python",
   "name": "python",
   "nbconvert_exporter": "python",
   "pygments_lexer": "ipython3",
   "version": "3.9.12"
  }
 },
 "nbformat": 4,
 "nbformat_minor": 5
}
